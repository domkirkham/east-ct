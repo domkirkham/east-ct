{
 "cells": [
  {
   "cell_type": "markdown",
   "metadata": {},
   "source": [
    "## Week 1 Experiments"
   ]
  },
  {
   "cell_type": "markdown",
   "metadata": {},
   "source": [
    "**Install the requirements for the project:**"
   ]
  },
  {
   "cell_type": "code",
   "execution_count": 1,
   "metadata": {},
   "outputs": [],
   "source": [
    "#!pip install -r requirements.txt\n",
    "\n",
    "#!pip install seaborn"
   ]
  },
  {
   "cell_type": "markdown",
   "metadata": {},
   "source": [
    "**Load resources:**"
   ]
  },
  {
   "cell_type": "code",
   "execution_count": null,
   "metadata": {},
   "outputs": [],
   "source": [
    "run ./gg2_python/ct_include.ipy"
   ]
  },
  {
   "cell_type": "code",
   "execution_count": null,
   "metadata": {},
   "outputs": [],
   "source": [
    "import matplotlib.pyplot as plt\n",
    "import seaborn as sns\n",
    "\n",
    "sns.set()\n",
    "\n",
    "sns.set_context(\"poster\")"
   ]
  },
  {
   "cell_type": "code",
   "execution_count": null,
   "metadata": {},
   "outputs": [],
   "source": [
    "fig1, ax1 = plt.subplots()\n",
    "fig1.set_size_inches(20,10)\n",
    "\n",
    "materials = [\"Bone\", \"Aluminium\", \"Copper\"]\n",
    "\n",
    "for mat in materials:\n",
    "    ax1.plot(material.mev, material.coeff(mat), label=mat)\n",
    "    \n",
    "ax1.legend()\n",
    "ax1.set_xlabel(\"Energy (MeV)\")\n",
    "ax1.set_ylabel(r\"Attenuation (cm$^{-1}$)\")\n",
    "ax1.set_xscale('log')\n",
    "ax1.set_yscale('log')"
   ]
  },
  {
   "cell_type": "markdown",
   "metadata": {},
   "source": [
    "#### Finishing ```photons```"
   ]
  },
  {
   "cell_type": "code",
   "execution_count": null,
   "metadata": {},
   "outputs": [],
   "source": [
    "fig2, ax2 = plt.subplots()\n",
    "fig2.set_size_inches(20,10)\n",
    "\n",
    "materials = [\"Air\"]\n",
    "test_materials = [\"Bone\", \"Aluminium\", \"Copper\"]\n",
    "\n",
    "#for mat in materials:\n",
    "    #ax2.plot(material.mev, material.coeff(mat), label=mat)\n",
    "\n",
    "source = fake_source(material.mev, 0.12, material.coeff(\"Aluminium\"), 1, method='ideal')\n",
    "\n",
    "for mat in test_materials:\n",
    "    atten_energies = ct_detect(source, material.coeff(mat), np.arange(0, 10.0, 0.1), 1)\n",
    "    ax2.plot(np.arange(0,10.0,0.1), atten_energies, label=mat)\n",
    "    \n",
    "ax2.legend()\n",
    "ax2.set_xlabel(\"Energy (MeV)\")\n",
    "ax2.set_ylabel(r\"Attenuation (cm$^{-1}$)\")\n",
    "ax2.set_yscale('log')"
   ]
  },
  {
   "cell_type": "code",
   "execution_count": null,
   "metadata": {},
   "outputs": [],
   "source": []
  }
 ],
 "metadata": {
  "kernelspec": {
   "display_name": "Python 3",
   "language": "python",
   "name": "python3"
  },
  "language_info": {
   "codemirror_mode": {
    "name": "ipython",
    "version": 3
   },
   "file_extension": ".py",
   "mimetype": "text/x-python",
   "name": "python",
   "nbconvert_exporter": "python",
   "pygments_lexer": "ipython3",
   "version": "3.6.5"
  }
 },
 "nbformat": 4,
 "nbformat_minor": 2
}
